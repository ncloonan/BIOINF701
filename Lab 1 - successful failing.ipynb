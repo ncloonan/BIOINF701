{
 "cells": [
  {
   "cell_type": "markdown",
   "metadata": {},
   "source": [
    "# <font color=black>Lab 1 - Successful failing<font>"
   ]
  },
  {
   "cell_type": "markdown",
   "metadata": {},
   "source": [
    "If you are reading this, then you have successfully opened the Jupyter notebook, congratulations!\n",
    "\n",
    "The purpose of this lab is to help you to realize that you can troubleshoot complex computer code even if you have **never seen the language before**. It just requires some patience, and some common strategies that you can use to figure stuff out. These strategies work no matter what the computer language, so although we will be using R in these examples, you can apply these same strategies for all coding problems. \n",
    "\n",
    "In the following sections you will be presented with grey rectangles (cells) that contain code. Below the cell will be the output from that cell. This output may be either the correct output from that function (text, numbers, or graphs) or an error message. What we all want is the output, but it is a fact of life that 90% of your time doing most analyses will be trying to debug bad code. \n",
    "\n",
    "## Example 1\n",
    "\n",
    "In the following cell, we have some VERY simple (but boring) code that produces some output. "
   ]
  },
  {
   "cell_type": "code",
   "execution_count": 24,
   "metadata": {},
   "outputs": [
    {
     "data": {
      "text/html": [
       "7"
      ],
      "text/latex": [
       "7"
      ],
      "text/markdown": [
       "7"
      ],
      "text/plain": [
       "[1] 7"
      ]
     },
     "metadata": {},
     "output_type": "display_data"
    },
    {
     "data": {
      "text/html": [
       "10"
      ],
      "text/latex": [
       "10"
      ],
      "text/markdown": [
       "10"
      ],
      "text/plain": [
       "[1] 10"
      ]
     },
     "metadata": {},
     "output_type": "display_data"
    }
   ],
   "source": [
    "a<-2\n",
    "b<-5\n",
    "a+b\n",
    "a*b"
   ]
  },
  {
   "cell_type": "markdown",
   "metadata": {},
   "source": [
    "***\n",
    "You can see the code in the cell, and the output below the cell. 4 lines of code, two lines of output.\n",
    "\n",
    "One very common error is when the output is not what you are wanting/expecting. Without knowing anything else about the language, it is possible to tweak the code. Let's pretend that the output that we actually wanted from our code was 7 and 12, not 7 and 10. \n",
    "\n",
    "Have a go at changing the code. To do this, click on the cell, make whatever changes you want, and then press \"Run\" in the icon bar above. You can change as many things as you like, and press run as often as you like. As long as the output reads 7 and 12, there are no wrong answers. There may be pretty solutions, and ugly solutions, but there are no wrong solutions. \n",
    "\n",
    "For this example, and all the remaining examples in this lab, pay attention not just to solving the problem, but HOW you solved the problem. What steps did you take? What logic did you apply? How did you know what each of the lines of coded did? How did you know which lines to change? \n",
    "\n",
    "#### <font color=green>Class discussion - strategies we used to fix this code</font>. \n",
    "<br><br><br>\n",
    "\n",
    "## Example 2 \n",
    "For the following cell, you will note that the output is actually an error message. "
   ]
  },
  {
   "cell_type": "code",
   "execution_count": 25,
   "metadata": {},
   "outputs": [
    {
     "ename": "ERROR",
     "evalue": "Error in \"x\" + 3: non-numeric argument to binary operator\n",
     "output_type": "error",
     "traceback": [
      "Error in \"x\" + 3: non-numeric argument to binary operator\nTraceback:\n"
     ]
    }
   ],
   "source": [
    "'x'+3"
   ]
  },
  {
   "cell_type": "markdown",
   "metadata": {},
   "source": [
    "***\n",
    "#### <font color=green>Class discussion - What do you think is wrong with this code? How would you know if you have the code correct? </font>\n",
    "<br><br><br>\n",
    "\n",
    "## Example 3\n",
    "The following cell contains two lines: "
   ]
  },
  {
   "cell_type": "code",
   "execution_count": 26,
   "metadata": {
    "scrolled": false
   },
   "outputs": [
    {
     "ename": "ERROR",
     "evalue": "Error in library(ggplot): there is no package called 'ggplot'\n",
     "output_type": "error",
     "traceback": [
      "Error in library(ggplot): there is no package called 'ggplot'\nTraceback:\n",
      "1. library(ggplot)",
      "2. stop(txt, domain = NA)"
     ]
    }
   ],
   "source": [
    "# ggplot2 examples\n",
    "library(ggplot) "
   ]
  },
  {
   "cell_type": "markdown",
   "metadata": {},
   "source": [
    "***\n",
    "In order to use code that others have written for you in R, you need to load this code so R knows what to do. Try and fix the above code so that the library loads successfully. **HINT: The code will be fixed when there is no output on running the command**. \n",
    "\n",
    "#### <font color=green>Class discussion - strategies we used to fix this code, what does the hash do?</font>\n",
    "<br><br><br>\n",
    "\n",
    "## Example 4 \n",
    "So far, we have dealt with errors that are on the same line as the problem code. But code is run sequentially. Sometimes code that is further down in the program (on in later cells, in this notebook) depend on code that has already been run. For example, the first line in the follwing code will run successfully, but the second line will fail. \n"
   ]
  },
  {
   "cell_type": "code",
   "execution_count": 27,
   "metadata": {},
   "outputs": [
    {
     "data": {
      "text/html": [
       "19"
      ],
      "text/latex": [
       "19"
      ],
      "text/markdown": [
       "19"
      ],
      "text/plain": [
       "[1] 19"
      ]
     },
     "metadata": {},
     "output_type": "display_data"
    },
    {
     "ename": "ERROR",
     "evalue": "Error in eval(expr, envir, enclos): object 'z' not found\n",
     "output_type": "error",
     "traceback": [
      "Error in eval(expr, envir, enclos): object 'z' not found\nTraceback:\n"
     ]
    }
   ],
   "source": [
    "a+17\n",
    "z+17"
   ]
  },
  {
   "cell_type": "markdown",
   "metadata": {},
   "source": [
    "***\n",
    "#### <font color=green>Class discussion - why did the first line of code work? Why did the second line fail? How can you test this?</font>\n",
    "<br><br><br>\n",
    "\n",
    "## Example 5\n",
    "\n",
    "The package ggplot2 contains some data that people can use to test the plot functions. One such data set is called 'msleep', and it describes the sleep patterns of mammals, references and more details can be found at this link: https://ggplot2.tidyverse.org/reference/msleep.html\n",
    "\n",
    "Using what you have learned about the language above - in the cell line below, type a command that will print the contents of msleep. Don't forget to hit Run to see if you are successful. "
   ]
  },
  {
   "cell_type": "code",
   "execution_count": null,
   "metadata": {
    "scrolled": true
   },
   "outputs": [],
   "source": []
  },
  {
   "cell_type": "markdown",
   "metadata": {},
   "source": [
    "***\n",
    "#### <font color=green>Class discussion - strategies that we used to solve this puzzle?</font>\n",
    "<br><br><br>\n",
    "\n",
    "## Example 6\n",
    "So far the puzzles here have all been related to very simple examples of code, but we are not interested in doing simple things. We are generally much more interested in doing complex things. Take the following code for example. "
   ]
  },
  {
   "cell_type": "code",
   "execution_count": 4,
   "metadata": {},
   "outputs": [
    {
     "ename": "ERROR",
     "evalue": "Error in parse(text = x, srcfile = src): <text>:5:0: unexpected end of input\n3:        geom_smooth(method=\"loess\") + \n4:        labs(title =\"Mammal REM sleep time versus awake time\", x = \"Time spend in REM sleep\", y = \"Time spent awake\") \n  ^\n",
     "output_type": "error",
     "traceback": [
      "Error in parse(text = x, srcfile = src): <text>:5:0: unexpected end of input\n3:        geom_smooth(method=\"loess\") + \n4:        labs(title =\"Mammal REM sleep time versus awake time\", x = \"Time spend in REM sleep\", y = \"Time spent awake\") \n  ^\nTraceback:\n"
     ]
    }
   ],
   "source": [
    "ggplot(msleep, aes(sleep_rem, awake) + \n",
    "       geom_point() + \n",
    "       geom_smooth(method=\"loess\") + \n",
    "       labs(title =\"Mammal REM sleep time versus awake time\", x = \"Time spend in REM sleep\", y = \"Time spent awake\") "
   ]
  },
  {
   "cell_type": "markdown",
   "metadata": {},
   "source": [
    "***\n",
    "So even though this is considered a single line of code, it is substantially more complex then anything you have dealt with so far... but it is completely solvable, even by coding n00bs. The strategy here, is to first figure out what you know, and then either research or deduce the things you don't. If you can troubleshoot the following line of code, it will show you the help manual for the ggplot function. You can similarly use the command to look for help on other subjects. "
   ]
  },
  {
   "cell_type": "code",
   "execution_count": 76,
   "metadata": {},
   "outputs": [
    {
     "ename": "ERROR",
     "evalue": "Error in hlep(ggplot): could not find function \"hlep\"\n",
     "output_type": "error",
     "traceback": [
      "Error in hlep(ggplot): could not find function \"hlep\"\nTraceback:\n"
     ]
    }
   ],
   "source": [
    "hlep(ggplot)"
   ]
  },
  {
   "cell_type": "markdown",
   "metadata": {},
   "source": [
    "***\n",
    "#### <font color=green>Class discussion - strategies that we used to solve this puzzle?</font>\n",
    "<br><br><br>\n",
    "\n",
    "## Additional problems \n",
    "Now that you have some strategies for fixing code, try your hand at finding and fixing the errors in the following cells. "
   ]
  },
  {
   "cell_type": "code",
   "execution_count": 63,
   "metadata": {},
   "outputs": [
    {
     "data": {},
     "metadata": {},
     "output_type": "display_data"
    },
    {
     "data": {
      "image/png": "[encoded data removed]",
      "text/plain": [
       "plot without title"
      ]
     },
     "metadata": {},
     "output_type": "display_data"
    }
   ],
   "source": [
    "ggplot(data=subset(midwest, !is.na(poptotal)), aes(a,b)) + \n",
    "  geom_point(aes(col=state, size=popdensity), na.rm=TRUE) + \n",
    "  xlim(c(0, 0.1)) + \n",
    "  ylim(c(0, 500000)) + \n",
    "  labs(subtitle=\"Area Vs Population\", \n",
    "       y=\"Population\", \n",
    "       x=\"Area\", \n",
    "       title=\"Scatterplot\", \n",
    "       caption = \"Source: midwest\")"
   ]
  },
  {
   "cell_type": "code",
   "execution_count": 66,
   "metadata": {
    "scrolled": true
   },
   "outputs": [
    {
     "ename": "ERROR",
     "evalue": "Error in parse(text = x, srcfile = src): <text>:1:29: unexpected symbol\n1: ggplot(mpg, aes(cty, hwy))  geom_jitter\n                                ^\n",
     "output_type": "error",
     "traceback": [
      "Error in parse(text = x, srcfile = src): <text>:1:29: unexpected symbol\n1: ggplot(mpg, aes(cty, hwy))  geom_jitter\n                                ^\nTraceback:\n"
     ]
    }
   ],
   "source": [
    "ggplot(mpg, aes(cty, hwy))  geom_jitter(width = .5, size=1) +\n",
    "  labs(subtitle=\"mpg: city vs highway mileage\", \n",
    "       y=\"Highway\", \n",
    "       x=\"City\", \n",
    "       title=\"Jittered Points\")"
   ]
  },
  {
   "cell_type": "code",
   "execution_count": 70,
   "metadata": {},
   "outputs": [
    {
     "data": {},
     "metadata": {},
     "output_type": "display_data"
    },
    {
     "data": {
      "image/png": "[encoded data removed]",
      "text/plain": [
       "plot without title"
      ]
     },
     "metadata": {},
     "output_type": "display_data"
    }
   ],
   "source": [
    "ggplot(mpg, aes(hwy, hwy)) + geom_count(col=\"tomato3\", show.legend=F) +\n",
    "  labs(subtitle=\"mpg: city vs highway mileage\", \n",
    "       y=\"Highway\", \n",
    "       x=\"City\", \n",
    "       title=\"Counts Plot\")"
   ]
  },
  {
   "cell_type": "code",
   "execution_count": 75,
   "metadata": {},
   "outputs": [
    {
     "data": {},
     "metadata": {},
     "output_type": "display_data"
    },
    {
     "data": {
      "text/plain": [
       "geom_point: na.rm = FALSE\n",
       "stat_identity: na.rm = FALSE\n",
       "position_identity "
      ]
     },
     "metadata": {},
     "output_type": "display_data"
    },
    {
     "data": {
      "text/plain": [
       "geom_line: na.rm = FALSE\n",
       "stat_summary: fun.data = NULL, fun.y = average, fun.ymax = NULL, fun.ymin = NULL, fun.args = list(), na.rm = FALSE\n",
       "position_identity "
      ]
     },
     "metadata": {},
     "output_type": "display_data"
    },
    {
     "data": {
      "image/png": "[encoded data removed]",
      "text/plain": [
       "plot without title"
      ]
     },
     "metadata": {},
     "output_type": "display_data"
    }
   ],
   "source": [
    "ggplot(mpg, aes(displ, hwy))  \n",
    "  geom_point(color = \"grey\")  \n",
    "  stat_summary(fun.y = \"average\", geom = \"line\", size = 1, linetype = \"dashed\")"
   ]
  },
  {
   "cell_type": "code",
   "execution_count": null,
   "metadata": {},
   "outputs": [],
   "source": []
  }
 ],
 "metadata": {
  "kernelspec": {
   "display_name": "R",
   "language": "R",
   "name": "ir"
  },
  "language_info": {
   "codemirror_mode": "r",
   "file_extension": ".r",
   "mimetype": "text/x-r-source",
   "name": "R",
   "pygments_lexer": "r",
   "version": "3.5.1"
  }
 },
 "nbformat": 4,
 "nbformat_minor": 2
}
